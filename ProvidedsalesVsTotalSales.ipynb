{
  "nbformat": 4,
  "nbformat_minor": 0,
  "metadata": {
    "colab": {
      "provenance": [],
      "authorship_tag": "ABX9TyOkqQ5uVZrrlhnuYU9dW4s0",
      "include_colab_link": true
    },
    "kernelspec": {
      "name": "python3",
      "display_name": "Python 3"
    },
    "language_info": {
      "name": "python"
    }
  },
  "cells": [
    {
      "cell_type": "markdown",
      "metadata": {
        "id": "view-in-github",
        "colab_type": "text"
      },
      "source": [
        "<a href=\"https://colab.research.google.com/github/VarunPalrecha/DataSets/blob/main/ProvidedsalesVsTotalSales.ipynb\" target=\"_parent\"><img src=\"https://colab.research.google.com/assets/colab-badge.svg\" alt=\"Open In Colab\"/></a>"
      ]
    },
    {
      "cell_type": "code",
      "source": [
        "import pandas as pd\n",
        "import json\n",
        "import re\n",
        "from sklearn.model_selection import train_test_split\n",
        "from sklearn.linear_model import LinearRegression\n",
        "from sklearn.metrics import mean_squared_error\n"
      ],
      "metadata": {
        "id": "u1RYLYuUp_eM"
      },
      "execution_count": 40,
      "outputs": []
    },
    {
      "cell_type": "markdown",
      "source": [
        "## Load Data"
      ],
      "metadata": {
        "id": "QgsSJgVClvli"
      }
    },
    {
      "cell_type": "code",
      "execution_count": 44,
      "metadata": {
        "colab": {
          "base_uri": "https://localhost:8080/",
          "height": 834
        },
        "id": "5S7WRhYPlGev",
        "outputId": "16847aa2-6440-46a1-ef7a-1d423ad88ebb"
      },
      "outputs": [
        {
          "output_type": "execute_result",
          "data": {
            "text/plain": [
              "     productId                               productName  rating  price  \\\n",
              "0            1             Echo Dot (4th generation) amz       2     26   \n",
              "1            2                     Kindle Paperwhite amz       2     44   \n",
              "2            3                     Apple AirPods Pro amz       0     66   \n",
              "3            4                       Instant Pot Duo amz       1     63   \n",
              "4            5                       Fitbit Charge 4 amz       5     21   \n",
              "..         ...                                       ...     ...    ...   \n",
              "295        296                 LG Gram 17-Inch Laptop fc       2     76   \n",
              "296        297                         Google Pixel 5 fc       3     71   \n",
              "297        298              Ring Stick Up Cam Battery fc       4     37   \n",
              "298        299  KitchenAid Artisan Series Stand Mixer fc       4     97   \n",
              "299        300        DJI Osmo Pocket Handheld Camera fc       4      1   \n",
              "\n",
              "     discount  positiveReviews  negativeReviews  totalReviews  \\\n",
              "0          29               12               19            31   \n",
              "1          42               42               69           111   \n",
              "2          29               44                7            51   \n",
              "3          24               88               27           115   \n",
              "4          38               91               49           140   \n",
              "..        ...              ...              ...           ...   \n",
              "295        16               64               60           124   \n",
              "296        33               25               32            57   \n",
              "297        50               49               22            71   \n",
              "298        19               42               86           128   \n",
              "299        22               59               52           111   \n",
              "\n",
              "                  releaseDate    category    seller  sales_month1  \\\n",
              "0    2023-06-24T05:33:09.613Z  Electronic    Amazon            53   \n",
              "1    2023-06-24T05:33:09.613Z  Electronic    Amazon            95   \n",
              "2    2023-06-24T05:33:09.613Z  Home Decor    Amazon            64   \n",
              "3    2023-06-24T05:33:09.613Z       Books    Amazon             8   \n",
              "4    2023-06-24T05:33:09.613Z      Sports    Amazon            20   \n",
              "..                        ...         ...       ...           ...   \n",
              "295  2023-06-24T05:33:09.615Z  Electronic  Flipkart            99   \n",
              "296  2023-06-24T05:33:09.615Z      Beauty  Flipkart            64   \n",
              "297  2023-06-24T05:33:09.615Z       Books  Flipkart            74   \n",
              "298  2023-06-24T05:33:09.615Z  Electronic  Flipkart            32   \n",
              "299  2023-06-24T05:33:09.615Z  Daily life  Flipkart            92   \n",
              "\n",
              "     sales_month2  sales_month3  sales_totalsales  \n",
              "0              94            36               183  \n",
              "1              67            48               210  \n",
              "2              60            15               139  \n",
              "3              59            17                84  \n",
              "4              86            16               122  \n",
              "..            ...           ...               ...  \n",
              "295             8             4               111  \n",
              "296            83            98               245  \n",
              "297            15            28               117  \n",
              "298            85            29               146  \n",
              "299            75            47               214  \n",
              "\n",
              "[300 rows x 15 columns]"
            ],
            "text/html": [
              "\n",
              "\n",
              "  <div id=\"df-14d54540-96f1-4e00-99c4-40a35ffd362a\">\n",
              "    <div class=\"colab-df-container\">\n",
              "      <div>\n",
              "<style scoped>\n",
              "    .dataframe tbody tr th:only-of-type {\n",
              "        vertical-align: middle;\n",
              "    }\n",
              "\n",
              "    .dataframe tbody tr th {\n",
              "        vertical-align: top;\n",
              "    }\n",
              "\n",
              "    .dataframe thead th {\n",
              "        text-align: right;\n",
              "    }\n",
              "</style>\n",
              "<table border=\"1\" class=\"dataframe\">\n",
              "  <thead>\n",
              "    <tr style=\"text-align: right;\">\n",
              "      <th></th>\n",
              "      <th>productId</th>\n",
              "      <th>productName</th>\n",
              "      <th>rating</th>\n",
              "      <th>price</th>\n",
              "      <th>discount</th>\n",
              "      <th>positiveReviews</th>\n",
              "      <th>negativeReviews</th>\n",
              "      <th>totalReviews</th>\n",
              "      <th>releaseDate</th>\n",
              "      <th>category</th>\n",
              "      <th>seller</th>\n",
              "      <th>sales_month1</th>\n",
              "      <th>sales_month2</th>\n",
              "      <th>sales_month3</th>\n",
              "      <th>sales_totalsales</th>\n",
              "    </tr>\n",
              "  </thead>\n",
              "  <tbody>\n",
              "    <tr>\n",
              "      <th>0</th>\n",
              "      <td>1</td>\n",
              "      <td>Echo Dot (4th generation) amz</td>\n",
              "      <td>2</td>\n",
              "      <td>26</td>\n",
              "      <td>29</td>\n",
              "      <td>12</td>\n",
              "      <td>19</td>\n",
              "      <td>31</td>\n",
              "      <td>2023-06-24T05:33:09.613Z</td>\n",
              "      <td>Electronic</td>\n",
              "      <td>Amazon</td>\n",
              "      <td>53</td>\n",
              "      <td>94</td>\n",
              "      <td>36</td>\n",
              "      <td>183</td>\n",
              "    </tr>\n",
              "    <tr>\n",
              "      <th>1</th>\n",
              "      <td>2</td>\n",
              "      <td>Kindle Paperwhite amz</td>\n",
              "      <td>2</td>\n",
              "      <td>44</td>\n",
              "      <td>42</td>\n",
              "      <td>42</td>\n",
              "      <td>69</td>\n",
              "      <td>111</td>\n",
              "      <td>2023-06-24T05:33:09.613Z</td>\n",
              "      <td>Electronic</td>\n",
              "      <td>Amazon</td>\n",
              "      <td>95</td>\n",
              "      <td>67</td>\n",
              "      <td>48</td>\n",
              "      <td>210</td>\n",
              "    </tr>\n",
              "    <tr>\n",
              "      <th>2</th>\n",
              "      <td>3</td>\n",
              "      <td>Apple AirPods Pro amz</td>\n",
              "      <td>0</td>\n",
              "      <td>66</td>\n",
              "      <td>29</td>\n",
              "      <td>44</td>\n",
              "      <td>7</td>\n",
              "      <td>51</td>\n",
              "      <td>2023-06-24T05:33:09.613Z</td>\n",
              "      <td>Home Decor</td>\n",
              "      <td>Amazon</td>\n",
              "      <td>64</td>\n",
              "      <td>60</td>\n",
              "      <td>15</td>\n",
              "      <td>139</td>\n",
              "    </tr>\n",
              "    <tr>\n",
              "      <th>3</th>\n",
              "      <td>4</td>\n",
              "      <td>Instant Pot Duo amz</td>\n",
              "      <td>1</td>\n",
              "      <td>63</td>\n",
              "      <td>24</td>\n",
              "      <td>88</td>\n",
              "      <td>27</td>\n",
              "      <td>115</td>\n",
              "      <td>2023-06-24T05:33:09.613Z</td>\n",
              "      <td>Books</td>\n",
              "      <td>Amazon</td>\n",
              "      <td>8</td>\n",
              "      <td>59</td>\n",
              "      <td>17</td>\n",
              "      <td>84</td>\n",
              "    </tr>\n",
              "    <tr>\n",
              "      <th>4</th>\n",
              "      <td>5</td>\n",
              "      <td>Fitbit Charge 4 amz</td>\n",
              "      <td>5</td>\n",
              "      <td>21</td>\n",
              "      <td>38</td>\n",
              "      <td>91</td>\n",
              "      <td>49</td>\n",
              "      <td>140</td>\n",
              "      <td>2023-06-24T05:33:09.613Z</td>\n",
              "      <td>Sports</td>\n",
              "      <td>Amazon</td>\n",
              "      <td>20</td>\n",
              "      <td>86</td>\n",
              "      <td>16</td>\n",
              "      <td>122</td>\n",
              "    </tr>\n",
              "    <tr>\n",
              "      <th>...</th>\n",
              "      <td>...</td>\n",
              "      <td>...</td>\n",
              "      <td>...</td>\n",
              "      <td>...</td>\n",
              "      <td>...</td>\n",
              "      <td>...</td>\n",
              "      <td>...</td>\n",
              "      <td>...</td>\n",
              "      <td>...</td>\n",
              "      <td>...</td>\n",
              "      <td>...</td>\n",
              "      <td>...</td>\n",
              "      <td>...</td>\n",
              "      <td>...</td>\n",
              "      <td>...</td>\n",
              "    </tr>\n",
              "    <tr>\n",
              "      <th>295</th>\n",
              "      <td>296</td>\n",
              "      <td>LG Gram 17-Inch Laptop fc</td>\n",
              "      <td>2</td>\n",
              "      <td>76</td>\n",
              "      <td>16</td>\n",
              "      <td>64</td>\n",
              "      <td>60</td>\n",
              "      <td>124</td>\n",
              "      <td>2023-06-24T05:33:09.615Z</td>\n",
              "      <td>Electronic</td>\n",
              "      <td>Flipkart</td>\n",
              "      <td>99</td>\n",
              "      <td>8</td>\n",
              "      <td>4</td>\n",
              "      <td>111</td>\n",
              "    </tr>\n",
              "    <tr>\n",
              "      <th>296</th>\n",
              "      <td>297</td>\n",
              "      <td>Google Pixel 5 fc</td>\n",
              "      <td>3</td>\n",
              "      <td>71</td>\n",
              "      <td>33</td>\n",
              "      <td>25</td>\n",
              "      <td>32</td>\n",
              "      <td>57</td>\n",
              "      <td>2023-06-24T05:33:09.615Z</td>\n",
              "      <td>Beauty</td>\n",
              "      <td>Flipkart</td>\n",
              "      <td>64</td>\n",
              "      <td>83</td>\n",
              "      <td>98</td>\n",
              "      <td>245</td>\n",
              "    </tr>\n",
              "    <tr>\n",
              "      <th>297</th>\n",
              "      <td>298</td>\n",
              "      <td>Ring Stick Up Cam Battery fc</td>\n",
              "      <td>4</td>\n",
              "      <td>37</td>\n",
              "      <td>50</td>\n",
              "      <td>49</td>\n",
              "      <td>22</td>\n",
              "      <td>71</td>\n",
              "      <td>2023-06-24T05:33:09.615Z</td>\n",
              "      <td>Books</td>\n",
              "      <td>Flipkart</td>\n",
              "      <td>74</td>\n",
              "      <td>15</td>\n",
              "      <td>28</td>\n",
              "      <td>117</td>\n",
              "    </tr>\n",
              "    <tr>\n",
              "      <th>298</th>\n",
              "      <td>299</td>\n",
              "      <td>KitchenAid Artisan Series Stand Mixer fc</td>\n",
              "      <td>4</td>\n",
              "      <td>97</td>\n",
              "      <td>19</td>\n",
              "      <td>42</td>\n",
              "      <td>86</td>\n",
              "      <td>128</td>\n",
              "      <td>2023-06-24T05:33:09.615Z</td>\n",
              "      <td>Electronic</td>\n",
              "      <td>Flipkart</td>\n",
              "      <td>32</td>\n",
              "      <td>85</td>\n",
              "      <td>29</td>\n",
              "      <td>146</td>\n",
              "    </tr>\n",
              "    <tr>\n",
              "      <th>299</th>\n",
              "      <td>300</td>\n",
              "      <td>DJI Osmo Pocket Handheld Camera fc</td>\n",
              "      <td>4</td>\n",
              "      <td>1</td>\n",
              "      <td>22</td>\n",
              "      <td>59</td>\n",
              "      <td>52</td>\n",
              "      <td>111</td>\n",
              "      <td>2023-06-24T05:33:09.615Z</td>\n",
              "      <td>Daily life</td>\n",
              "      <td>Flipkart</td>\n",
              "      <td>92</td>\n",
              "      <td>75</td>\n",
              "      <td>47</td>\n",
              "      <td>214</td>\n",
              "    </tr>\n",
              "  </tbody>\n",
              "</table>\n",
              "<p>300 rows × 15 columns</p>\n",
              "</div>\n",
              "      <button class=\"colab-df-convert\" onclick=\"convertToInteractive('df-14d54540-96f1-4e00-99c4-40a35ffd362a')\"\n",
              "              title=\"Convert this dataframe to an interactive table.\"\n",
              "              style=\"display:none;\">\n",
              "\n",
              "  <svg xmlns=\"http://www.w3.org/2000/svg\" height=\"24px\"viewBox=\"0 0 24 24\"\n",
              "       width=\"24px\">\n",
              "    <path d=\"M0 0h24v24H0V0z\" fill=\"none\"/>\n",
              "    <path d=\"M18.56 5.44l.94 2.06.94-2.06 2.06-.94-2.06-.94-.94-2.06-.94 2.06-2.06.94zm-11 1L8.5 8.5l.94-2.06 2.06-.94-2.06-.94L8.5 2.5l-.94 2.06-2.06.94zm10 10l.94 2.06.94-2.06 2.06-.94-2.06-.94-.94-2.06-.94 2.06-2.06.94z\"/><path d=\"M17.41 7.96l-1.37-1.37c-.4-.4-.92-.59-1.43-.59-.52 0-1.04.2-1.43.59L10.3 9.45l-7.72 7.72c-.78.78-.78 2.05 0 2.83L4 21.41c.39.39.9.59 1.41.59.51 0 1.02-.2 1.41-.59l7.78-7.78 2.81-2.81c.8-.78.8-2.07 0-2.86zM5.41 20L4 18.59l7.72-7.72 1.47 1.35L5.41 20z\"/>\n",
              "  </svg>\n",
              "      </button>\n",
              "\n",
              "\n",
              "\n",
              "    <div id=\"df-f7678f53-2d34-4fc7-9498-5beb46861fa8\">\n",
              "      <button class=\"colab-df-quickchart\" onclick=\"quickchart('df-f7678f53-2d34-4fc7-9498-5beb46861fa8')\"\n",
              "              title=\"Suggest charts.\"\n",
              "              style=\"display:none;\">\n",
              "\n",
              "<svg xmlns=\"http://www.w3.org/2000/svg\" height=\"24px\"viewBox=\"0 0 24 24\"\n",
              "     width=\"24px\">\n",
              "    <g>\n",
              "        <path d=\"M19 3H5c-1.1 0-2 .9-2 2v14c0 1.1.9 2 2 2h14c1.1 0 2-.9 2-2V5c0-1.1-.9-2-2-2zM9 17H7v-7h2v7zm4 0h-2V7h2v10zm4 0h-2v-4h2v4z\"/>\n",
              "    </g>\n",
              "</svg>\n",
              "      </button>\n",
              "    </div>\n",
              "\n",
              "<style>\n",
              "  .colab-df-quickchart {\n",
              "    background-color: #E8F0FE;\n",
              "    border: none;\n",
              "    border-radius: 50%;\n",
              "    cursor: pointer;\n",
              "    display: none;\n",
              "    fill: #1967D2;\n",
              "    height: 32px;\n",
              "    padding: 0 0 0 0;\n",
              "    width: 32px;\n",
              "  }\n",
              "\n",
              "  .colab-df-quickchart:hover {\n",
              "    background-color: #E2EBFA;\n",
              "    box-shadow: 0px 1px 2px rgba(60, 64, 67, 0.3), 0px 1px 3px 1px rgba(60, 64, 67, 0.15);\n",
              "    fill: #174EA6;\n",
              "  }\n",
              "\n",
              "  [theme=dark] .colab-df-quickchart {\n",
              "    background-color: #3B4455;\n",
              "    fill: #D2E3FC;\n",
              "  }\n",
              "\n",
              "  [theme=dark] .colab-df-quickchart:hover {\n",
              "    background-color: #434B5C;\n",
              "    box-shadow: 0px 1px 3px 1px rgba(0, 0, 0, 0.15);\n",
              "    filter: drop-shadow(0px 1px 2px rgba(0, 0, 0, 0.3));\n",
              "    fill: #FFFFFF;\n",
              "  }\n",
              "</style>\n",
              "\n",
              "    <script>\n",
              "      async function quickchart(key) {\n",
              "        const containerElement = document.querySelector('#' + key);\n",
              "        const charts = await google.colab.kernel.invokeFunction(\n",
              "            'suggestCharts', [key], {});\n",
              "      }\n",
              "    </script>\n",
              "\n",
              "      <script>\n",
              "\n",
              "function displayQuickchartButton(domScope) {\n",
              "  let quickchartButtonEl =\n",
              "    domScope.querySelector('#df-f7678f53-2d34-4fc7-9498-5beb46861fa8 button.colab-df-quickchart');\n",
              "  quickchartButtonEl.style.display =\n",
              "    google.colab.kernel.accessAllowed ? 'block' : 'none';\n",
              "}\n",
              "\n",
              "        displayQuickchartButton(document);\n",
              "      </script>\n",
              "      <style>\n",
              "    .colab-df-container {\n",
              "      display:flex;\n",
              "      flex-wrap:wrap;\n",
              "      gap: 12px;\n",
              "    }\n",
              "\n",
              "    .colab-df-convert {\n",
              "      background-color: #E8F0FE;\n",
              "      border: none;\n",
              "      border-radius: 50%;\n",
              "      cursor: pointer;\n",
              "      display: none;\n",
              "      fill: #1967D2;\n",
              "      height: 32px;\n",
              "      padding: 0 0 0 0;\n",
              "      width: 32px;\n",
              "    }\n",
              "\n",
              "    .colab-df-convert:hover {\n",
              "      background-color: #E2EBFA;\n",
              "      box-shadow: 0px 1px 2px rgba(60, 64, 67, 0.3), 0px 1px 3px 1px rgba(60, 64, 67, 0.15);\n",
              "      fill: #174EA6;\n",
              "    }\n",
              "\n",
              "    [theme=dark] .colab-df-convert {\n",
              "      background-color: #3B4455;\n",
              "      fill: #D2E3FC;\n",
              "    }\n",
              "\n",
              "    [theme=dark] .colab-df-convert:hover {\n",
              "      background-color: #434B5C;\n",
              "      box-shadow: 0px 1px 3px 1px rgba(0, 0, 0, 0.15);\n",
              "      filter: drop-shadow(0px 1px 2px rgba(0, 0, 0, 0.3));\n",
              "      fill: #FFFFFF;\n",
              "    }\n",
              "  </style>\n",
              "\n",
              "      <script>\n",
              "        const buttonEl =\n",
              "          document.querySelector('#df-14d54540-96f1-4e00-99c4-40a35ffd362a button.colab-df-convert');\n",
              "        buttonEl.style.display =\n",
              "          google.colab.kernel.accessAllowed ? 'block' : 'none';\n",
              "\n",
              "        async function convertToInteractive(key) {\n",
              "          const element = document.querySelector('#df-14d54540-96f1-4e00-99c4-40a35ffd362a');\n",
              "          const dataTable =\n",
              "            await google.colab.kernel.invokeFunction('convertToInteractive',\n",
              "                                                     [key], {});\n",
              "          if (!dataTable) return;\n",
              "\n",
              "          const docLinkHtml = 'Like what you see? Visit the ' +\n",
              "            '<a target=\"_blank\" href=https://colab.research.google.com/notebooks/data_table.ipynb>data table notebook</a>'\n",
              "            + ' to learn more about interactive tables.';\n",
              "          element.innerHTML = '';\n",
              "          dataTable['output_type'] = 'display_data';\n",
              "          await google.colab.output.renderOutput(dataTable, element);\n",
              "          const docLink = document.createElement('div');\n",
              "          docLink.innerHTML = docLinkHtml;\n",
              "          element.appendChild(docLink);\n",
              "        }\n",
              "      </script>\n",
              "    </div>\n",
              "  </div>\n"
            ]
          },
          "metadata": {},
          "execution_count": 44
        }
      ],
      "source": [
        "\n",
        "df = pd.read_csv('https://raw.githubusercontent.com/VarunPalrecha/DataSets/main/output1.csv')\n",
        "df"
      ]
    },
    {
      "cell_type": "markdown",
      "source": [
        "## Data Prepration."
      ],
      "metadata": {
        "id": "f04uuwgbnh2o"
      }
    },
    {
      "cell_type": "markdown",
      "source": [
        "## Data Seperation as X and Y."
      ],
      "metadata": {
        "id": "gtoc0I1NnooD"
      }
    },
    {
      "cell_type": "code",
      "source": [
        "X = df[['sales_month1', 'sales_month2', 'sales_month3', 'sales_totalsales']].values\n",
        "X"
      ],
      "metadata": {
        "colab": {
          "base_uri": "https://localhost:8080/"
        },
        "id": "OJLehHBPnetx",
        "outputId": "7f82a612-b321-4df1-ae7e-202530c7466c"
      },
      "execution_count": 45,
      "outputs": [
        {
          "output_type": "execute_result",
          "data": {
            "text/plain": [
              "array([[ 53,  94,  36, 183],\n",
              "       [ 95,  67,  48, 210],\n",
              "       [ 64,  60,  15, 139],\n",
              "       ...,\n",
              "       [ 74,  15,  28, 117],\n",
              "       [ 32,  85,  29, 146],\n",
              "       [ 92,  75,  47, 214]])"
            ]
          },
          "metadata": {},
          "execution_count": 45
        }
      ]
    },
    {
      "cell_type": "code",
      "source": [
        "df['sales'] = df[['sales_month1', 'sales_month2', 'sales_month3']].sum(axis=1)\n",
        "y = df['sales'].values\n",
        "y"
      ],
      "metadata": {
        "colab": {
          "base_uri": "https://localhost:8080/"
        },
        "id": "lopkQ32pn65M",
        "outputId": "16b3a792-9079-490b-dc7e-c73e57ded218"
      },
      "execution_count": 47,
      "outputs": [
        {
          "output_type": "execute_result",
          "data": {
            "text/plain": [
              "array([183, 210, 139,  84, 122,  84, 173, 163, 169, 185,  89, 260, 142,\n",
              "       127, 103,  80, 123,  98, 171,  32, 276, 175, 153, 145, 124, 120,\n",
              "       211,  92, 236, 157,  64, 213, 166, 261,  84, 180, 155, 142, 136,\n",
              "        79, 263, 130, 176, 193, 162, 159, 143, 189, 185, 154,  58, 164,\n",
              "       248,  61, 238, 277, 208, 272, 258, 187, 139, 161, 143,  99,  87,\n",
              "       129, 219, 109, 158,  92,  52,  74, 123, 177, 161,  41,  99, 207,\n",
              "        79, 129, 129, 193, 128, 194, 166, 126, 157, 149, 128, 162, 211,\n",
              "       148, 210, 204,  92, 119, 112, 138, 133, 166, 165, 214, 111, 203,\n",
              "       162,  92, 131, 175, 168, 159, 204,  96, 203,  96, 170,  46,  95,\n",
              "       180, 104, 187, 168, 207, 164, 157, 205, 133, 214, 137, 197, 111,\n",
              "       195,  97, 170, 142, 162, 246, 240,  94, 160, 154, 125, 123,  65,\n",
              "       139, 199, 111, 165, 176, 180, 220, 156, 148, 179, 144,  68,  95,\n",
              "       212, 148, 154, 185, 151, 103, 136, 206, 174,  75, 216, 130, 142,\n",
              "       108,  79, 145, 168, 161, 144, 133, 149, 171, 210, 163, 168, 155,\n",
              "       184, 136, 214, 106, 124, 178, 125, 115,  81,  64, 185, 218, 128,\n",
              "       177, 110, 120, 130,  46, 159, 147, 200, 122, 110, 185, 193,  86,\n",
              "       100, 132, 161, 111,  38, 230,  91, 162, 131, 200, 174, 140, 191,\n",
              "       193, 139, 149, 210, 114, 180, 158, 200, 113, 121, 179,  92, 162,\n",
              "       112, 146, 198, 121,  91,  79, 159, 137, 169, 222, 101,  94, 143,\n",
              "       201, 143, 173, 177, 146, 241, 130, 148, 104, 149, 190, 213, 202,\n",
              "       172, 130, 152, 194, 127, 115, 156, 192, 142, 117, 212, 153, 197,\n",
              "       254, 120,  96, 139, 134, 101, 137, 250, 143, 161,  98, 227, 173,\n",
              "       150, 239, 136, 133, 185,  80, 259,  99,  63, 111, 245, 117, 146,\n",
              "       214])"
            ]
          },
          "metadata": {},
          "execution_count": 47
        }
      ]
    },
    {
      "cell_type": "markdown",
      "source": [
        "## Data Splitting"
      ],
      "metadata": {
        "id": "82o4LgrfoMs1"
      }
    },
    {
      "cell_type": "code",
      "source": [
        "X_train, X_test, y_train, y_test = train_test_split(X, y, test_size=0.2, random_state=42)"
      ],
      "metadata": {
        "id": "ZCbywLRDoR1O"
      },
      "execution_count": 48,
      "outputs": []
    },
    {
      "cell_type": "markdown",
      "source": [
        "## Create and train the linear regression model"
      ],
      "metadata": {
        "id": "85-dFMcisdXH"
      }
    },
    {
      "cell_type": "code",
      "source": [
        "model = LinearRegression()\n",
        "model.fit(X_train, y_train)"
      ],
      "metadata": {
        "id": "5DjLs-PusgEc"
      },
      "execution_count": null,
      "outputs": []
    },
    {
      "cell_type": "markdown",
      "source": [
        "## Make predictions on the testing data"
      ],
      "metadata": {
        "id": "81mt5UtwNX_G"
      }
    },
    {
      "cell_type": "code",
      "source": [
        "y_pred = model.predict(X_test)\n",
        "y_pred"
      ],
      "metadata": {
        "colab": {
          "base_uri": "https://localhost:8080/"
        },
        "id": "SnZxQ1YaNcHK",
        "outputId": "9f8696e5-5fbd-49c7-d714-34e9923e86c5"
      },
      "execution_count": 51,
      "outputs": [
        {
          "output_type": "execute_result",
          "data": {
            "text/plain": [
              "array([122., 156., 179., 185., 162., 180., 110., 159.,  84., 133., 121.,\n",
              "       272., 174., 159., 184., 193., 133., 111., 180.,  75.,  79.,  96.,\n",
              "       173., 177., 162., 176., 143., 111., 148.,  91.,  98., 174., 261.,\n",
              "       124., 162., 187., 163., 211., 143., 177., 204.,  99., 150., 139.,\n",
              "       207.,  99., 112., 113.,  96., 179., 168., 199.,  79.,  41., 117.,\n",
              "       101., 138., 210., 185., 120.])"
            ]
          },
          "metadata": {},
          "execution_count": 51
        }
      ]
    },
    {
      "cell_type": "markdown",
      "source": [
        "## Calculate RMSE"
      ],
      "metadata": {
        "id": "gMVfGUHSNmLR"
      }
    },
    {
      "cell_type": "code",
      "source": [
        "rmse = mean_squared_error(y_test, y_pred, squared=False)\n",
        "print(f'Root Mean Squared Error: {rmse}')\n"
      ],
      "metadata": {
        "colab": {
          "base_uri": "https://localhost:8080/"
        },
        "id": "JA1YnFsqNqcB",
        "outputId": "0075ac1a-d965-4769-e951-cd6956f3350d"
      },
      "execution_count": 52,
      "outputs": [
        {
          "output_type": "stream",
          "name": "stdout",
          "text": [
            "Root Mean Squared Error: 2.3368827726717468e-14\n"
          ]
        }
      ]
    },
    {
      "cell_type": "markdown",
      "source": [
        "##  You can now use the trained model to predict sales for new feature values"
      ],
      "metadata": {
        "id": "vdyMHeAwN4ZY"
      }
    },
    {
      "cell_type": "code",
      "source": [
        "new_features = [[51, 97, 21, 183]]  # Example new feature values\n",
        "predicted_sales = model.predict(new_features)\n",
        "print(f'Predicted Sales for New Feature Values: {predicted_sales[0]}')"
      ],
      "metadata": {
        "colab": {
          "base_uri": "https://localhost:8080/"
        },
        "id": "dVz9X7mjN74I",
        "outputId": "1a836708-6171-4899-97bc-7f001d263a7e"
      },
      "execution_count": 57,
      "outputs": [
        {
          "output_type": "stream",
          "name": "stdout",
          "text": [
            "Predicted Sales for New Feature Values: 179.5\n"
          ]
        }
      ]
    }
  ]
}